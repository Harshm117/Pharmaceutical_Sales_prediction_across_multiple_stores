{
 "cells": [
  {
   "cell_type": "code",
   "execution_count": 1,
   "id": "c526cf0a",
   "metadata": {},
   "outputs": [],
   "source": [
    "import os\n",
    "os.environ[\"NUMEXPR_MAX_THREADS\"] = \"4\"  # Set the number of threads you prefer\n",
    "\n",
    "import warnings\n",
    "\n",
    "warnings.filterwarnings(\"ignore\")\n",
    "\n",
    "import pandas as pd\n",
    "# import dvc.api\n",
    "import numpy as np\n",
    "import matplotlib.pyplot as plt\n",
    "import seaborn as sns\n",
    "sns.set()\n",
    "%matplotlib inline\n",
    "\n",
    "## Display max column\n",
    "pd.set_option('display.max_columns', None)\n",
    "## Display max rows\n",
    "# pd.set_option('display.max_rows', None)\n",
    "\n",
    "from sklearn.preprocessing import LabelEncoder\n",
    "from sklearn.preprocessing import MinMaxScaler\n",
    "from sklearn.linear_model import LinearRegression\n",
    "from sklearn.ensemble import RandomForestRegressor\n",
    "from sklearn.tree import DecisionTreeRegressor  \n",
    "\n",
    "from sklearn.model_selection import train_test_split\n",
    "from sklearn.pipeline import Pipeline\n",
    "import mlflow\n",
    "from sklearn.model_selection import KFold\n",
    "from sklearn.metrics import mean_squared_error, mean_absolute_error\n",
    "\n",
    "import pickle # Read and Save model - Serialization\n",
    "from datetime import datetime\n",
    "\n",
    "# custom functions\n",
    "import sys\n",
    "sys.path.append(r\"C:\\Users\\Admin\\AI COURSE DIGICROME\\Pharmaceutical Sales prediction across multiple stores\")\n",
    "\n",
    "import os\n",
    "import logging\n",
    "logging.basicConfig(level=os.environ.get(\"LOGLEVEL\", \"INFO\"))"
   ]
  },
  {
   "cell_type": "code",
   "execution_count": 2,
   "id": "22631fea",
   "metadata": {},
   "outputs": [
    {
     "name": "stderr",
     "output_type": "stream",
     "text": [
      "INFO:root:check\n"
     ]
    }
   ],
   "source": [
    "#Logger\n",
    "log = logging.getLogger()\n",
    "log.info('check')"
   ]
  },
  {
   "cell_type": "markdown",
   "id": "20f005fb",
   "metadata": {},
   "source": [
    "## Preprocessing"
   ]
  },
  {
   "cell_type": "code",
   "execution_count": 3,
   "id": "384a4493-5aa2-48f9-9746-2ac2023723df",
   "metadata": {},
   "outputs": [],
   "source": [
    "train_store_file = 'train_store_merged.csv'"
   ]
  },
  {
   "cell_type": "code",
   "execution_count": 4,
   "id": "b92cab0d",
   "metadata": {},
   "outputs": [
    {
     "data": {
      "text/html": [
       "<div>\n",
       "<style scoped>\n",
       "    .dataframe tbody tr th:only-of-type {\n",
       "        vertical-align: middle;\n",
       "    }\n",
       "\n",
       "    .dataframe tbody tr th {\n",
       "        vertical-align: top;\n",
       "    }\n",
       "\n",
       "    .dataframe thead th {\n",
       "        text-align: right;\n",
       "    }\n",
       "</style>\n",
       "<table border=\"1\" class=\"dataframe\">\n",
       "  <thead>\n",
       "    <tr style=\"text-align: right;\">\n",
       "      <th></th>\n",
       "      <th>Store</th>\n",
       "      <th>DayOfWeek</th>\n",
       "      <th>Date</th>\n",
       "      <th>Sales</th>\n",
       "      <th>Customers</th>\n",
       "      <th>Open</th>\n",
       "      <th>Promo</th>\n",
       "      <th>StateHoliday</th>\n",
       "      <th>SchoolHoliday</th>\n",
       "      <th>Year</th>\n",
       "      <th>Month</th>\n",
       "      <th>Day</th>\n",
       "      <th>WeekOfYear</th>\n",
       "      <th>SalePerCustomer</th>\n",
       "      <th>StoreType</th>\n",
       "      <th>Assortment</th>\n",
       "      <th>CompetitionDistance</th>\n",
       "      <th>CompetitionOpenSinceMonth</th>\n",
       "      <th>CompetitionOpenSinceYear</th>\n",
       "      <th>Promo2</th>\n",
       "      <th>Promo2SinceWeek</th>\n",
       "      <th>Promo2SinceYear</th>\n",
       "      <th>PromoInterval</th>\n",
       "    </tr>\n",
       "  </thead>\n",
       "  <tbody>\n",
       "    <tr>\n",
       "      <th>0</th>\n",
       "      <td>1</td>\n",
       "      <td>5</td>\n",
       "      <td>2015-07-31</td>\n",
       "      <td>5263</td>\n",
       "      <td>555</td>\n",
       "      <td>1</td>\n",
       "      <td>1</td>\n",
       "      <td>0</td>\n",
       "      <td>1</td>\n",
       "      <td>2015</td>\n",
       "      <td>7</td>\n",
       "      <td>31</td>\n",
       "      <td>31</td>\n",
       "      <td>9.482883</td>\n",
       "      <td>c</td>\n",
       "      <td>a</td>\n",
       "      <td>1270.0</td>\n",
       "      <td>9.0</td>\n",
       "      <td>2008.0</td>\n",
       "      <td>0</td>\n",
       "      <td>0.0</td>\n",
       "      <td>0.0</td>\n",
       "      <td>0</td>\n",
       "    </tr>\n",
       "    <tr>\n",
       "      <th>1</th>\n",
       "      <td>1</td>\n",
       "      <td>4</td>\n",
       "      <td>2015-07-30</td>\n",
       "      <td>5020</td>\n",
       "      <td>546</td>\n",
       "      <td>1</td>\n",
       "      <td>1</td>\n",
       "      <td>0</td>\n",
       "      <td>1</td>\n",
       "      <td>2015</td>\n",
       "      <td>7</td>\n",
       "      <td>30</td>\n",
       "      <td>31</td>\n",
       "      <td>9.194139</td>\n",
       "      <td>c</td>\n",
       "      <td>a</td>\n",
       "      <td>1270.0</td>\n",
       "      <td>9.0</td>\n",
       "      <td>2008.0</td>\n",
       "      <td>0</td>\n",
       "      <td>0.0</td>\n",
       "      <td>0.0</td>\n",
       "      <td>0</td>\n",
       "    </tr>\n",
       "    <tr>\n",
       "      <th>2</th>\n",
       "      <td>1</td>\n",
       "      <td>3</td>\n",
       "      <td>2015-07-29</td>\n",
       "      <td>4782</td>\n",
       "      <td>523</td>\n",
       "      <td>1</td>\n",
       "      <td>1</td>\n",
       "      <td>0</td>\n",
       "      <td>1</td>\n",
       "      <td>2015</td>\n",
       "      <td>7</td>\n",
       "      <td>29</td>\n",
       "      <td>31</td>\n",
       "      <td>9.143403</td>\n",
       "      <td>c</td>\n",
       "      <td>a</td>\n",
       "      <td>1270.0</td>\n",
       "      <td>9.0</td>\n",
       "      <td>2008.0</td>\n",
       "      <td>0</td>\n",
       "      <td>0.0</td>\n",
       "      <td>0.0</td>\n",
       "      <td>0</td>\n",
       "    </tr>\n",
       "    <tr>\n",
       "      <th>3</th>\n",
       "      <td>1</td>\n",
       "      <td>2</td>\n",
       "      <td>2015-07-28</td>\n",
       "      <td>5011</td>\n",
       "      <td>560</td>\n",
       "      <td>1</td>\n",
       "      <td>1</td>\n",
       "      <td>0</td>\n",
       "      <td>1</td>\n",
       "      <td>2015</td>\n",
       "      <td>7</td>\n",
       "      <td>28</td>\n",
       "      <td>31</td>\n",
       "      <td>8.948214</td>\n",
       "      <td>c</td>\n",
       "      <td>a</td>\n",
       "      <td>1270.0</td>\n",
       "      <td>9.0</td>\n",
       "      <td>2008.0</td>\n",
       "      <td>0</td>\n",
       "      <td>0.0</td>\n",
       "      <td>0.0</td>\n",
       "      <td>0</td>\n",
       "    </tr>\n",
       "    <tr>\n",
       "      <th>4</th>\n",
       "      <td>1</td>\n",
       "      <td>1</td>\n",
       "      <td>2015-07-27</td>\n",
       "      <td>6102</td>\n",
       "      <td>612</td>\n",
       "      <td>1</td>\n",
       "      <td>1</td>\n",
       "      <td>0</td>\n",
       "      <td>1</td>\n",
       "      <td>2015</td>\n",
       "      <td>7</td>\n",
       "      <td>27</td>\n",
       "      <td>31</td>\n",
       "      <td>9.970588</td>\n",
       "      <td>c</td>\n",
       "      <td>a</td>\n",
       "      <td>1270.0</td>\n",
       "      <td>9.0</td>\n",
       "      <td>2008.0</td>\n",
       "      <td>0</td>\n",
       "      <td>0.0</td>\n",
       "      <td>0.0</td>\n",
       "      <td>0</td>\n",
       "    </tr>\n",
       "  </tbody>\n",
       "</table>\n",
       "</div>"
      ],
      "text/plain": [
       "   Store  DayOfWeek        Date  Sales  Customers  Open  Promo StateHoliday  \\\n",
       "0      1          5  2015-07-31   5263        555     1      1            0   \n",
       "1      1          4  2015-07-30   5020        546     1      1            0   \n",
       "2      1          3  2015-07-29   4782        523     1      1            0   \n",
       "3      1          2  2015-07-28   5011        560     1      1            0   \n",
       "4      1          1  2015-07-27   6102        612     1      1            0   \n",
       "\n",
       "   SchoolHoliday  Year  Month  Day  WeekOfYear  SalePerCustomer StoreType  \\\n",
       "0              1  2015      7   31          31         9.482883         c   \n",
       "1              1  2015      7   30          31         9.194139         c   \n",
       "2              1  2015      7   29          31         9.143403         c   \n",
       "3              1  2015      7   28          31         8.948214         c   \n",
       "4              1  2015      7   27          31         9.970588         c   \n",
       "\n",
       "  Assortment  CompetitionDistance  CompetitionOpenSinceMonth  \\\n",
       "0          a               1270.0                        9.0   \n",
       "1          a               1270.0                        9.0   \n",
       "2          a               1270.0                        9.0   \n",
       "3          a               1270.0                        9.0   \n",
       "4          a               1270.0                        9.0   \n",
       "\n",
       "   CompetitionOpenSinceYear  Promo2  Promo2SinceWeek  Promo2SinceYear  \\\n",
       "0                    2008.0       0              0.0              0.0   \n",
       "1                    2008.0       0              0.0              0.0   \n",
       "2                    2008.0       0              0.0              0.0   \n",
       "3                    2008.0       0              0.0              0.0   \n",
       "4                    2008.0       0              0.0              0.0   \n",
       "\n",
       "  PromoInterval  \n",
       "0             0  \n",
       "1             0  \n",
       "2             0  \n",
       "3             0  \n",
       "4             0  "
      ]
     },
     "execution_count": 4,
     "metadata": {},
     "output_type": "execute_result"
    }
   ],
   "source": [
    "## loading merged train,store data using pandas library\n",
    "train_store_df = pd.read_csv(train_store_file,parse_dates = True, low_memory = False)\n",
    "train_store_df.head()"
   ]
  },
  {
   "cell_type": "code",
   "execution_count": 5,
   "id": "cf5ba326",
   "metadata": {},
   "outputs": [
    {
     "name": "stdout",
     "output_type": "stream",
     "text": [
      "<class 'pandas.core.frame.DataFrame'>\n",
      "RangeIndex: 1017209 entries, 0 to 1017208\n",
      "Data columns (total 23 columns):\n",
      " #   Column                     Non-Null Count    Dtype  \n",
      "---  ------                     --------------    -----  \n",
      " 0   Store                      1017209 non-null  int64  \n",
      " 1   DayOfWeek                  1017209 non-null  int64  \n",
      " 2   Date                       1017209 non-null  object \n",
      " 3   Sales                      1017209 non-null  int64  \n",
      " 4   Customers                  1017209 non-null  int64  \n",
      " 5   Open                       1017209 non-null  int64  \n",
      " 6   Promo                      1017209 non-null  int64  \n",
      " 7   StateHoliday               1017209 non-null  object \n",
      " 8   SchoolHoliday              1017209 non-null  int64  \n",
      " 9   Year                       1017209 non-null  int64  \n",
      " 10  Month                      1017209 non-null  int64  \n",
      " 11  Day                        1017209 non-null  int64  \n",
      " 12  WeekOfYear                 1017209 non-null  int64  \n",
      " 13  SalePerCustomer            1017209 non-null  float64\n",
      " 14  StoreType                  1017209 non-null  object \n",
      " 15  Assortment                 1017209 non-null  object \n",
      " 16  CompetitionDistance        1017209 non-null  float64\n",
      " 17  CompetitionOpenSinceMonth  1017209 non-null  float64\n",
      " 18  CompetitionOpenSinceYear   1017209 non-null  float64\n",
      " 19  Promo2                     1017209 non-null  int64  \n",
      " 20  Promo2SinceWeek            1017209 non-null  float64\n",
      " 21  Promo2SinceYear            1017209 non-null  float64\n",
      " 22  PromoInterval              1017209 non-null  object \n",
      "dtypes: float64(6), int64(12), object(5)\n",
      "memory usage: 178.5+ MB\n"
     ]
    }
   ],
   "source": [
    "train_store_df.info()"
   ]
  },
  {
   "cell_type": "code",
   "execution_count": 6,
   "id": "0abdbad2",
   "metadata": {},
   "outputs": [],
   "source": [
    "## Convert the 'Date' column to datetime format\n",
    "train_store_df['Date'] = pd.to_datetime(train_store_df['Date'])"
   ]
  },
  {
   "cell_type": "code",
   "execution_count": 7,
   "id": "223b2aa8",
   "metadata": {},
   "outputs": [
    {
     "name": "stdout",
     "output_type": "stream",
     "text": [
      "<class 'pandas.core.frame.DataFrame'>\n",
      "RangeIndex: 1017209 entries, 0 to 1017208\n",
      "Data columns (total 23 columns):\n",
      " #   Column                     Non-Null Count    Dtype         \n",
      "---  ------                     --------------    -----         \n",
      " 0   Store                      1017209 non-null  int64         \n",
      " 1   DayOfWeek                  1017209 non-null  int64         \n",
      " 2   Date                       1017209 non-null  datetime64[ns]\n",
      " 3   Sales                      1017209 non-null  int64         \n",
      " 4   Customers                  1017209 non-null  int64         \n",
      " 5   Open                       1017209 non-null  int64         \n",
      " 6   Promo                      1017209 non-null  int64         \n",
      " 7   StateHoliday               1017209 non-null  object        \n",
      " 8   SchoolHoliday              1017209 non-null  int64         \n",
      " 9   Year                       1017209 non-null  int64         \n",
      " 10  Month                      1017209 non-null  int64         \n",
      " 11  Day                        1017209 non-null  int64         \n",
      " 12  WeekOfYear                 1017209 non-null  int64         \n",
      " 13  SalePerCustomer            1017209 non-null  float64       \n",
      " 14  StoreType                  1017209 non-null  object        \n",
      " 15  Assortment                 1017209 non-null  object        \n",
      " 16  CompetitionDistance        1017209 non-null  float64       \n",
      " 17  CompetitionOpenSinceMonth  1017209 non-null  float64       \n",
      " 18  CompetitionOpenSinceYear   1017209 non-null  float64       \n",
      " 19  Promo2                     1017209 non-null  int64         \n",
      " 20  Promo2SinceWeek            1017209 non-null  float64       \n",
      " 21  Promo2SinceYear            1017209 non-null  float64       \n",
      " 22  PromoInterval              1017209 non-null  object        \n",
      "dtypes: datetime64[ns](1), float64(6), int64(12), object(4)\n",
      "memory usage: 178.5+ MB\n"
     ]
    }
   ],
   "source": [
    "train_store_df.info()"
   ]
  },
  {
   "cell_type": "code",
   "execution_count": 8,
   "id": "406f4080",
   "metadata": {},
   "outputs": [
    {
     "data": {
      "text/html": [
       "<div>\n",
       "<style scoped>\n",
       "    .dataframe tbody tr th:only-of-type {\n",
       "        vertical-align: middle;\n",
       "    }\n",
       "\n",
       "    .dataframe tbody tr th {\n",
       "        vertical-align: top;\n",
       "    }\n",
       "\n",
       "    .dataframe thead th {\n",
       "        text-align: right;\n",
       "    }\n",
       "</style>\n",
       "<table border=\"1\" class=\"dataframe\">\n",
       "  <thead>\n",
       "    <tr style=\"text-align: right;\">\n",
       "      <th></th>\n",
       "      <th>Store</th>\n",
       "      <th>DayOfWeek</th>\n",
       "      <th>Open</th>\n",
       "      <th>Promo</th>\n",
       "      <th>SchoolHoliday</th>\n",
       "      <th>Day</th>\n",
       "      <th>WeekOfYear</th>\n",
       "      <th>Month</th>\n",
       "      <th>Year</th>\n",
       "      <th>StoreType</th>\n",
       "      <th>Assortment</th>\n",
       "      <th>CompetitionDistance</th>\n",
       "      <th>Promo2</th>\n",
       "    </tr>\n",
       "  </thead>\n",
       "  <tbody>\n",
       "    <tr>\n",
       "      <th>3952</th>\n",
       "      <td>5</td>\n",
       "      <td>3</td>\n",
       "      <td>1</td>\n",
       "      <td>1</td>\n",
       "      <td>0</td>\n",
       "      <td>28</td>\n",
       "      <td>5</td>\n",
       "      <td>1</td>\n",
       "      <td>2015</td>\n",
       "      <td>a</td>\n",
       "      <td>a</td>\n",
       "      <td>29910.0</td>\n",
       "      <td>0</td>\n",
       "    </tr>\n",
       "    <tr>\n",
       "      <th>731990</th>\n",
       "      <td>804</td>\n",
       "      <td>4</td>\n",
       "      <td>1</td>\n",
       "      <td>0</td>\n",
       "      <td>0</td>\n",
       "      <td>25</td>\n",
       "      <td>26</td>\n",
       "      <td>6</td>\n",
       "      <td>2015</td>\n",
       "      <td>c</td>\n",
       "      <td>c</td>\n",
       "      <td>2100.0</td>\n",
       "      <td>1</td>\n",
       "    </tr>\n",
       "    <tr>\n",
       "      <th>930291</th>\n",
       "      <td>1020</td>\n",
       "      <td>5</td>\n",
       "      <td>1</td>\n",
       "      <td>0</td>\n",
       "      <td>1</td>\n",
       "      <td>4</td>\n",
       "      <td>1</td>\n",
       "      <td>1</td>\n",
       "      <td>2013</td>\n",
       "      <td>a</td>\n",
       "      <td>a</td>\n",
       "      <td>40.0</td>\n",
       "      <td>0</td>\n",
       "    </tr>\n",
       "    <tr>\n",
       "      <th>409882</th>\n",
       "      <td>450</td>\n",
       "      <td>1</td>\n",
       "      <td>1</td>\n",
       "      <td>0</td>\n",
       "      <td>0</td>\n",
       "      <td>9</td>\n",
       "      <td>7</td>\n",
       "      <td>2</td>\n",
       "      <td>2015</td>\n",
       "      <td>c</td>\n",
       "      <td>a</td>\n",
       "      <td>5780.0</td>\n",
       "      <td>1</td>\n",
       "    </tr>\n",
       "    <tr>\n",
       "      <th>132653</th>\n",
       "      <td>147</td>\n",
       "      <td>7</td>\n",
       "      <td>0</td>\n",
       "      <td>0</td>\n",
       "      <td>0</td>\n",
       "      <td>3</td>\n",
       "      <td>18</td>\n",
       "      <td>5</td>\n",
       "      <td>2015</td>\n",
       "      <td>d</td>\n",
       "      <td>c</td>\n",
       "      <td>8540.0</td>\n",
       "      <td>0</td>\n",
       "    </tr>\n",
       "  </tbody>\n",
       "</table>\n",
       "</div>"
      ],
      "text/plain": [
       "        Store  DayOfWeek  Open  Promo  SchoolHoliday  Day  WeekOfYear  Month  \\\n",
       "3952        5          3     1      1              0   28           5      1   \n",
       "731990    804          4     1      0              0   25          26      6   \n",
       "930291   1020          5     1      0              1    4           1      1   \n",
       "409882    450          1     1      0              0    9           7      2   \n",
       "132653    147          7     0      0              0    3          18      5   \n",
       "\n",
       "        Year StoreType Assortment  CompetitionDistance  Promo2  \n",
       "3952    2015         a          a              29910.0       0  \n",
       "731990  2015         c          c               2100.0       1  \n",
       "930291  2013         a          a                 40.0       0  \n",
       "409882  2015         c          a               5780.0       1  \n",
       "132653  2015         d          c               8540.0       0  "
      ]
     },
     "execution_count": 8,
     "metadata": {},
     "output_type": "execute_result"
    }
   ],
   "source": [
    "## columns to use\n",
    "#columns = ['DayOfWeek', 'Date', 'Open', 'Promo', 'StateHoliday',\n",
    "#       'SchoolHoliday', 'Year', 'Month', 'Day', 'WeekOfYear']\n",
    "\n",
    "# Label Date and StateHoliday Train\n",
    "columns = ['Sales', 'Store', 'DayOfWeek', 'Open', 'Promo', 'SchoolHoliday', 'Day', 'WeekOfYear', \n",
    "           'Month', 'Year', 'StoreType', 'Assortment', 'CompetitionDistance', 'Promo2']\n",
    "\n",
    "feature_columns = ['Store', 'DayOfWeek', 'Open', 'Promo', 'SchoolHoliday', 'Day', 'WeekOfYear', \n",
    "                   'Month', 'Year', 'StoreType', 'Assortment', 'CompetitionDistance', 'Promo2']\n",
    "\n",
    "sample_size = 1000\n",
    "sampled_df = train_store_df[columns].sample(sample_size)\n",
    "\n",
    "# Separate Test and Train files\n",
    "train_x = sampled_df[feature_columns]\n",
    "train_y = sampled_df[['Sales']]\n",
    "train_x.head()"
   ]
  },
  {
   "cell_type": "code",
   "execution_count": 9,
   "id": "90b4ffb1",
   "metadata": {},
   "outputs": [
    {
     "name": "stdout",
     "output_type": "stream",
     "text": [
      "<class 'pandas.core.frame.DataFrame'>\n",
      "Index: 1000 entries, 3952 to 591525\n",
      "Data columns (total 13 columns):\n",
      " #   Column               Non-Null Count  Dtype  \n",
      "---  ------               --------------  -----  \n",
      " 0   Store                1000 non-null   int64  \n",
      " 1   DayOfWeek            1000 non-null   int64  \n",
      " 2   Open                 1000 non-null   int64  \n",
      " 3   Promo                1000 non-null   int64  \n",
      " 4   SchoolHoliday        1000 non-null   int64  \n",
      " 5   Day                  1000 non-null   int64  \n",
      " 6   WeekOfYear           1000 non-null   int64  \n",
      " 7   Month                1000 non-null   int64  \n",
      " 8   Year                 1000 non-null   int64  \n",
      " 9   StoreType            1000 non-null   int32  \n",
      " 10  Assortment           1000 non-null   int32  \n",
      " 11  CompetitionDistance  1000 non-null   float64\n",
      " 12  Promo2               1000 non-null   int64  \n",
      "dtypes: float64(1), int32(2), int64(10)\n",
      "memory usage: 101.6 KB\n"
     ]
    }
   ],
   "source": [
    "## Label encoding\n",
    "label_encoder = LabelEncoder()\n",
    "train_x['StoreType'] = label_encoder.fit_transform(train_x['StoreType']) ## Encoding the 'StoreType' column using label encoding\n",
    "train_x['Assortment'] = label_encoder.fit_transform(train_x['Assortment']) ## Encoding the 'Assortment' column using label encoding\n",
    "\n",
    "train_x.info()"
   ]
  },
  {
   "cell_type": "code",
   "execution_count": 10,
   "id": "77fd6de6",
   "metadata": {},
   "outputs": [
    {
     "data": {
      "text/html": [
       "<div>\n",
       "<style scoped>\n",
       "    .dataframe tbody tr th:only-of-type {\n",
       "        vertical-align: middle;\n",
       "    }\n",
       "\n",
       "    .dataframe tbody tr th {\n",
       "        vertical-align: top;\n",
       "    }\n",
       "\n",
       "    .dataframe thead th {\n",
       "        text-align: right;\n",
       "    }\n",
       "</style>\n",
       "<table border=\"1\" class=\"dataframe\">\n",
       "  <thead>\n",
       "    <tr style=\"text-align: right;\">\n",
       "      <th></th>\n",
       "      <th>StoreType</th>\n",
       "      <th>Assortment</th>\n",
       "    </tr>\n",
       "  </thead>\n",
       "  <tbody>\n",
       "    <tr>\n",
       "      <th>3952</th>\n",
       "      <td>0</td>\n",
       "      <td>0</td>\n",
       "    </tr>\n",
       "    <tr>\n",
       "      <th>731990</th>\n",
       "      <td>2</td>\n",
       "      <td>2</td>\n",
       "    </tr>\n",
       "    <tr>\n",
       "      <th>930291</th>\n",
       "      <td>0</td>\n",
       "      <td>0</td>\n",
       "    </tr>\n",
       "    <tr>\n",
       "      <th>409882</th>\n",
       "      <td>2</td>\n",
       "      <td>0</td>\n",
       "    </tr>\n",
       "    <tr>\n",
       "      <th>132653</th>\n",
       "      <td>3</td>\n",
       "      <td>2</td>\n",
       "    </tr>\n",
       "    <tr>\n",
       "      <th>...</th>\n",
       "      <td>...</td>\n",
       "      <td>...</td>\n",
       "    </tr>\n",
       "    <tr>\n",
       "      <th>839875</th>\n",
       "      <td>3</td>\n",
       "      <td>0</td>\n",
       "    </tr>\n",
       "    <tr>\n",
       "      <th>325527</th>\n",
       "      <td>0</td>\n",
       "      <td>0</td>\n",
       "    </tr>\n",
       "    <tr>\n",
       "      <th>527177</th>\n",
       "      <td>3</td>\n",
       "      <td>0</td>\n",
       "    </tr>\n",
       "    <tr>\n",
       "      <th>448872</th>\n",
       "      <td>0</td>\n",
       "      <td>0</td>\n",
       "    </tr>\n",
       "    <tr>\n",
       "      <th>591525</th>\n",
       "      <td>0</td>\n",
       "      <td>0</td>\n",
       "    </tr>\n",
       "  </tbody>\n",
       "</table>\n",
       "<p>1000 rows × 2 columns</p>\n",
       "</div>"
      ],
      "text/plain": [
       "        StoreType  Assortment\n",
       "3952            0           0\n",
       "731990          2           2\n",
       "930291          0           0\n",
       "409882          2           0\n",
       "132653          3           2\n",
       "...           ...         ...\n",
       "839875          3           0\n",
       "325527          0           0\n",
       "527177          3           0\n",
       "448872          0           0\n",
       "591525          0           0\n",
       "\n",
       "[1000 rows x 2 columns]"
      ]
     },
     "execution_count": 10,
     "metadata": {},
     "output_type": "execute_result"
    }
   ],
   "source": [
    "## Encoded features\n",
    "train_x[['StoreType', 'Assortment']]"
   ]
  },
  {
   "cell_type": "code",
   "execution_count": 11,
   "id": "64a813f3",
   "metadata": {},
   "outputs": [],
   "source": [
    "# Initialize the scalers\n",
    "x_scaler = MinMaxScaler()\n",
    "y_scaler = MinMaxScaler()\n",
    "\n",
    "# Scale the features\n",
    "#X = x_scaler.fit_transform(train_x)\n",
    "X = train_x\n",
    "# Scale the target variable\n",
    "Y = y_scaler.fit_transform(train_y)"
   ]
  },
  {
   "cell_type": "code",
   "execution_count": 12,
   "id": "f4db7d00",
   "metadata": {},
   "outputs": [
    {
     "data": {
      "text/plain": [
       "((1000, 13), (1000, 1))"
      ]
     },
     "execution_count": 12,
     "metadata": {},
     "output_type": "execute_result"
    }
   ],
   "source": [
    "X.shape, Y.shape"
   ]
  },
  {
   "cell_type": "code",
   "execution_count": 13,
   "id": "a091ab2c-5f03-4176-8076-926d9432b717",
   "metadata": {},
   "outputs": [
    {
     "data": {
      "text/plain": [
       "(800, 200, 800, 200)"
      ]
     },
     "execution_count": 13,
     "metadata": {},
     "output_type": "execute_result"
    }
   ],
   "source": [
    "split_size = int(0.8 * len(X))  ## Splitting the dataset into 80% for training and 20% for testing\n",
    "\n",
    "X_train, y_train = X[:split_size], Y[:split_size]  ## Assigning the first 80% of the data to the training set\n",
    "\n",
    "X_test, y_test = X[split_size:], Y[split_size:]  ## Assigning the remaining 20% of the data to the testing set\n",
    "\n",
    "len(X_train), len(X_test), len(y_train), len(y_test)  ## Printing the lengths of the training and testing sets"
   ]
  },
  {
   "cell_type": "code",
   "execution_count": 14,
   "id": "d3299925",
   "metadata": {},
   "outputs": [
    {
     "data": {
      "text/html": [
       "<style>#sk-container-id-1 {color: black;}#sk-container-id-1 pre{padding: 0;}#sk-container-id-1 div.sk-toggleable {background-color: white;}#sk-container-id-1 label.sk-toggleable__label {cursor: pointer;display: block;width: 100%;margin-bottom: 0;padding: 0.3em;box-sizing: border-box;text-align: center;}#sk-container-id-1 label.sk-toggleable__label-arrow:before {content: \"▸\";float: left;margin-right: 0.25em;color: #696969;}#sk-container-id-1 label.sk-toggleable__label-arrow:hover:before {color: black;}#sk-container-id-1 div.sk-estimator:hover label.sk-toggleable__label-arrow:before {color: black;}#sk-container-id-1 div.sk-toggleable__content {max-height: 0;max-width: 0;overflow: hidden;text-align: left;background-color: #f0f8ff;}#sk-container-id-1 div.sk-toggleable__content pre {margin: 0.2em;color: black;border-radius: 0.25em;background-color: #f0f8ff;}#sk-container-id-1 input.sk-toggleable__control:checked~div.sk-toggleable__content {max-height: 200px;max-width: 100%;overflow: auto;}#sk-container-id-1 input.sk-toggleable__control:checked~label.sk-toggleable__label-arrow:before {content: \"▾\";}#sk-container-id-1 div.sk-estimator input.sk-toggleable__control:checked~label.sk-toggleable__label {background-color: #d4ebff;}#sk-container-id-1 div.sk-label input.sk-toggleable__control:checked~label.sk-toggleable__label {background-color: #d4ebff;}#sk-container-id-1 input.sk-hidden--visually {border: 0;clip: rect(1px 1px 1px 1px);clip: rect(1px, 1px, 1px, 1px);height: 1px;margin: -1px;overflow: hidden;padding: 0;position: absolute;width: 1px;}#sk-container-id-1 div.sk-estimator {font-family: monospace;background-color: #f0f8ff;border: 1px dotted black;border-radius: 0.25em;box-sizing: border-box;margin-bottom: 0.5em;}#sk-container-id-1 div.sk-estimator:hover {background-color: #d4ebff;}#sk-container-id-1 div.sk-parallel-item::after {content: \"\";width: 100%;border-bottom: 1px solid gray;flex-grow: 1;}#sk-container-id-1 div.sk-label:hover label.sk-toggleable__label {background-color: #d4ebff;}#sk-container-id-1 div.sk-serial::before {content: \"\";position: absolute;border-left: 1px solid gray;box-sizing: border-box;top: 0;bottom: 0;left: 50%;z-index: 0;}#sk-container-id-1 div.sk-serial {display: flex;flex-direction: column;align-items: center;background-color: white;padding-right: 0.2em;padding-left: 0.2em;position: relative;}#sk-container-id-1 div.sk-item {position: relative;z-index: 1;}#sk-container-id-1 div.sk-parallel {display: flex;align-items: stretch;justify-content: center;background-color: white;position: relative;}#sk-container-id-1 div.sk-item::before, #sk-container-id-1 div.sk-parallel-item::before {content: \"\";position: absolute;border-left: 1px solid gray;box-sizing: border-box;top: 0;bottom: 0;left: 50%;z-index: -1;}#sk-container-id-1 div.sk-parallel-item {display: flex;flex-direction: column;z-index: 1;position: relative;background-color: white;}#sk-container-id-1 div.sk-parallel-item:first-child::after {align-self: flex-end;width: 50%;}#sk-container-id-1 div.sk-parallel-item:last-child::after {align-self: flex-start;width: 50%;}#sk-container-id-1 div.sk-parallel-item:only-child::after {width: 0;}#sk-container-id-1 div.sk-dashed-wrapped {border: 1px dashed gray;margin: 0 0.4em 0.5em 0.4em;box-sizing: border-box;padding-bottom: 0.4em;background-color: white;}#sk-container-id-1 div.sk-label label {font-family: monospace;font-weight: bold;display: inline-block;line-height: 1.2em;}#sk-container-id-1 div.sk-label-container {text-align: center;}#sk-container-id-1 div.sk-container {/* jupyter's `normalize.less` sets `[hidden] { display: none; }` but bootstrap.min.css set `[hidden] { display: none !important; }` so we also need the `!important` here to be able to override the default hidden behavior on the sphinx rendered scikit-learn.org. See: https://github.com/scikit-learn/scikit-learn/issues/21755 */display: inline-block !important;position: relative;}#sk-container-id-1 div.sk-text-repr-fallback {display: none;}</style><div id=\"sk-container-id-1\" class=\"sk-top-container\"><div class=\"sk-text-repr-fallback\"><pre>RandomForestRegressor(max_depth=25, random_state=42)</pre><b>In a Jupyter environment, please rerun this cell to show the HTML representation or trust the notebook. <br />On GitHub, the HTML representation is unable to render, please try loading this page with nbviewer.org.</b></div><div class=\"sk-container\" hidden><div class=\"sk-item\"><div class=\"sk-estimator sk-toggleable\"><input class=\"sk-toggleable__control sk-hidden--visually\" id=\"sk-estimator-id-1\" type=\"checkbox\" checked><label for=\"sk-estimator-id-1\" class=\"sk-toggleable__label sk-toggleable__label-arrow\">RandomForestRegressor</label><div class=\"sk-toggleable__content\"><pre>RandomForestRegressor(max_depth=25, random_state=42)</pre></div></div></div></div></div>"
      ],
      "text/plain": [
       "RandomForestRegressor(max_depth=25, random_state=42)"
      ]
     },
     "execution_count": 14,
     "metadata": {},
     "output_type": "execute_result"
    }
   ],
   "source": [
    "## Create a random forest regressor object \n",
    "rf_reg = RandomForestRegressor(n_estimators = 100, max_depth=25, random_state=42)\n",
    "rf_reg.fit(X_train, y_train)"
   ]
  },
  {
   "cell_type": "code",
   "execution_count": 15,
   "id": "407928a7",
   "metadata": {},
   "outputs": [
    {
     "name": "stdout",
     "output_type": "stream",
     "text": [
      "Prediction Score of the Model is 58.86%\n"
     ]
    }
   ],
   "source": [
    "## Calculate the prediction score of the model\n",
    "score = rf_reg.score(X_test, y_test)\n",
    "print(f\"Prediction Score of the Model is {round(score * 100, 2)}%\")"
   ]
  },
  {
   "cell_type": "code",
   "execution_count": 16,
   "id": "8d7dabdc",
   "metadata": {},
   "outputs": [],
   "source": [
    "def train_model(X, Y, model_type='LinearRegression'):\n",
    "    model = LinearRegression()\n",
    "    \n",
    "    if model_type == 'RandomForest':\n",
    "        model = RandomForestRegressor(n_estimators=100, max_depth=5, random_state=0)\n",
    "    \n",
    "    kf = KFold(n_splits=5)\n",
    "    for train_index, test_index in kf.split(X):\n",
    "        with mlflow.start_run(run_name=model_type, nested=True):\n",
    "            X_train, X_test = pd.DataFrame(X).iloc[train_index], pd.DataFrame(X).iloc[test_index]\n",
    "            y_train, y_test = pd.DataFrame(Y).iloc[train_index], pd.DataFrame(Y).iloc[test_index]\n",
    "\n",
    "            model.fit(X_train, y_train)\n",
    "            score = model.score(X_test, y_test)\n",
    "            print(f\"Prediction Score of the {model_type} is {round(score * 100, 2)}%\")\n",
    "            \n",
    "            if model_type == 'LinearRegression':\n",
    "                mlflow.log_param('LR-Score', score)\n",
    "                \n",
    "            if model_type == 'RandomForest':\n",
    "                mlflow.log_param('RF-Score', score)\n",
    "                \n",
    "            mlflow.sklearn.log_model(model, model_type + ' Model')\n",
    "            mlflow.end_run()\n",
    "            \n",
    "    print()\n",
    "\n",
    "# # Running this code will create multiple mlflow models \n",
    "# # Create a branch before running this file\n",
    "\n",
    "# train_model(X, Y, \"RandomForest\")\n",
    "# train_model(X, Y)"
   ]
  },
  {
   "cell_type": "markdown",
   "id": "aba31dd3",
   "metadata": {},
   "source": [
    "## Building Models with sklearn pipelines"
   ]
  },
  {
   "cell_type": "code",
   "execution_count": 17,
   "id": "3cc84eca",
   "metadata": {},
   "outputs": [
    {
     "data": {
      "text/plain": [
       "(800, 200, 800, 200)"
      ]
     },
     "execution_count": 17,
     "metadata": {},
     "output_type": "execute_result"
    }
   ],
   "source": [
    "## Assigning the training data to variables x and y\n",
    "x = train_x\n",
    "y = train_y\n",
    "\n",
    "split_size = int(0.8 * len(X)) ## Splitting the dataset into 80% for training and 20% for testing\n",
    "\n",
    "X_train, y_train = x[:split_size], y[:split_size] ## Assigning the first 80% of the data to the training set\n",
    "\n",
    "X_test, y_test = x[split_size:], y[split_size:] ## Assigning the remaining 20% of the data to the testing set\n",
    "\n",
    "len(X_train), len(X_test), len(y_train), len(y_test) ## Printing the lengths of the training and testing sets"
   ]
  },
  {
   "cell_type": "code",
   "execution_count": 18,
   "id": "ebba7184",
   "metadata": {},
   "outputs": [],
   "source": [
    "### Define the pipelines ###\n",
    "\n",
    "rfr = Pipeline(steps=[\n",
    "    ('scaler1', MinMaxScaler()),\n",
    "    ('rf_regression', RandomForestRegressor(n_estimators=100, max_depth=5, random_state=0))\n",
    "])\n",
    "\n",
    "lr = Pipeline(steps=[\n",
    "    ('scaler2', MinMaxScaler()),\n",
    "    ('lr_regression', LinearRegression())\n",
    "])\n",
    "\n",
    "dt = Pipeline(steps=[\n",
    "    ('scaler3', MinMaxScaler()),\n",
    "    ('dt_regression', DecisionTreeRegressor(random_state=0))\n",
    "])"
   ]
  },
  {
   "cell_type": "code",
   "execution_count": 19,
   "id": "baaf1e40",
   "metadata": {},
   "outputs": [
    {
     "data": {
      "text/html": [
       "<style>#sk-container-id-2 {color: black;}#sk-container-id-2 pre{padding: 0;}#sk-container-id-2 div.sk-toggleable {background-color: white;}#sk-container-id-2 label.sk-toggleable__label {cursor: pointer;display: block;width: 100%;margin-bottom: 0;padding: 0.3em;box-sizing: border-box;text-align: center;}#sk-container-id-2 label.sk-toggleable__label-arrow:before {content: \"▸\";float: left;margin-right: 0.25em;color: #696969;}#sk-container-id-2 label.sk-toggleable__label-arrow:hover:before {color: black;}#sk-container-id-2 div.sk-estimator:hover label.sk-toggleable__label-arrow:before {color: black;}#sk-container-id-2 div.sk-toggleable__content {max-height: 0;max-width: 0;overflow: hidden;text-align: left;background-color: #f0f8ff;}#sk-container-id-2 div.sk-toggleable__content pre {margin: 0.2em;color: black;border-radius: 0.25em;background-color: #f0f8ff;}#sk-container-id-2 input.sk-toggleable__control:checked~div.sk-toggleable__content {max-height: 200px;max-width: 100%;overflow: auto;}#sk-container-id-2 input.sk-toggleable__control:checked~label.sk-toggleable__label-arrow:before {content: \"▾\";}#sk-container-id-2 div.sk-estimator input.sk-toggleable__control:checked~label.sk-toggleable__label {background-color: #d4ebff;}#sk-container-id-2 div.sk-label input.sk-toggleable__control:checked~label.sk-toggleable__label {background-color: #d4ebff;}#sk-container-id-2 input.sk-hidden--visually {border: 0;clip: rect(1px 1px 1px 1px);clip: rect(1px, 1px, 1px, 1px);height: 1px;margin: -1px;overflow: hidden;padding: 0;position: absolute;width: 1px;}#sk-container-id-2 div.sk-estimator {font-family: monospace;background-color: #f0f8ff;border: 1px dotted black;border-radius: 0.25em;box-sizing: border-box;margin-bottom: 0.5em;}#sk-container-id-2 div.sk-estimator:hover {background-color: #d4ebff;}#sk-container-id-2 div.sk-parallel-item::after {content: \"\";width: 100%;border-bottom: 1px solid gray;flex-grow: 1;}#sk-container-id-2 div.sk-label:hover label.sk-toggleable__label {background-color: #d4ebff;}#sk-container-id-2 div.sk-serial::before {content: \"\";position: absolute;border-left: 1px solid gray;box-sizing: border-box;top: 0;bottom: 0;left: 50%;z-index: 0;}#sk-container-id-2 div.sk-serial {display: flex;flex-direction: column;align-items: center;background-color: white;padding-right: 0.2em;padding-left: 0.2em;position: relative;}#sk-container-id-2 div.sk-item {position: relative;z-index: 1;}#sk-container-id-2 div.sk-parallel {display: flex;align-items: stretch;justify-content: center;background-color: white;position: relative;}#sk-container-id-2 div.sk-item::before, #sk-container-id-2 div.sk-parallel-item::before {content: \"\";position: absolute;border-left: 1px solid gray;box-sizing: border-box;top: 0;bottom: 0;left: 50%;z-index: -1;}#sk-container-id-2 div.sk-parallel-item {display: flex;flex-direction: column;z-index: 1;position: relative;background-color: white;}#sk-container-id-2 div.sk-parallel-item:first-child::after {align-self: flex-end;width: 50%;}#sk-container-id-2 div.sk-parallel-item:last-child::after {align-self: flex-start;width: 50%;}#sk-container-id-2 div.sk-parallel-item:only-child::after {width: 0;}#sk-container-id-2 div.sk-dashed-wrapped {border: 1px dashed gray;margin: 0 0.4em 0.5em 0.4em;box-sizing: border-box;padding-bottom: 0.4em;background-color: white;}#sk-container-id-2 div.sk-label label {font-family: monospace;font-weight: bold;display: inline-block;line-height: 1.2em;}#sk-container-id-2 div.sk-label-container {text-align: center;}#sk-container-id-2 div.sk-container {/* jupyter's `normalize.less` sets `[hidden] { display: none; }` but bootstrap.min.css set `[hidden] { display: none !important; }` so we also need the `!important` here to be able to override the default hidden behavior on the sphinx rendered scikit-learn.org. See: https://github.com/scikit-learn/scikit-learn/issues/21755 */display: inline-block !important;position: relative;}#sk-container-id-2 div.sk-text-repr-fallback {display: none;}</style><div id=\"sk-container-id-2\" class=\"sk-top-container\"><div class=\"sk-text-repr-fallback\"><pre>Pipeline(steps=[(&#x27;scaler3&#x27;, MinMaxScaler()),\n",
       "                (&#x27;dt_regression&#x27;, DecisionTreeRegressor(random_state=0))])</pre><b>In a Jupyter environment, please rerun this cell to show the HTML representation or trust the notebook. <br />On GitHub, the HTML representation is unable to render, please try loading this page with nbviewer.org.</b></div><div class=\"sk-container\" hidden><div class=\"sk-item sk-dashed-wrapped\"><div class=\"sk-label-container\"><div class=\"sk-label sk-toggleable\"><input class=\"sk-toggleable__control sk-hidden--visually\" id=\"sk-estimator-id-2\" type=\"checkbox\" ><label for=\"sk-estimator-id-2\" class=\"sk-toggleable__label sk-toggleable__label-arrow\">Pipeline</label><div class=\"sk-toggleable__content\"><pre>Pipeline(steps=[(&#x27;scaler3&#x27;, MinMaxScaler()),\n",
       "                (&#x27;dt_regression&#x27;, DecisionTreeRegressor(random_state=0))])</pre></div></div></div><div class=\"sk-serial\"><div class=\"sk-item\"><div class=\"sk-estimator sk-toggleable\"><input class=\"sk-toggleable__control sk-hidden--visually\" id=\"sk-estimator-id-3\" type=\"checkbox\" ><label for=\"sk-estimator-id-3\" class=\"sk-toggleable__label sk-toggleable__label-arrow\">MinMaxScaler</label><div class=\"sk-toggleable__content\"><pre>MinMaxScaler()</pre></div></div></div><div class=\"sk-item\"><div class=\"sk-estimator sk-toggleable\"><input class=\"sk-toggleable__control sk-hidden--visually\" id=\"sk-estimator-id-4\" type=\"checkbox\" ><label for=\"sk-estimator-id-4\" class=\"sk-toggleable__label sk-toggleable__label-arrow\">DecisionTreeRegressor</label><div class=\"sk-toggleable__content\"><pre>DecisionTreeRegressor(random_state=0)</pre></div></div></div></div></div></div></div>"
      ],
      "text/plain": [
       "Pipeline(steps=[('scaler3', MinMaxScaler()),\n",
       "                ('dt_regression', DecisionTreeRegressor(random_state=0))])"
      ]
     },
     "execution_count": 19,
     "metadata": {},
     "output_type": "execute_result"
    }
   ],
   "source": [
    "rfr.fit(X_train, y_train)\n",
    "lr.fit(X_train, y_train)\n",
    "dt.fit(X_train, y_train)"
   ]
  },
  {
   "cell_type": "code",
   "execution_count": 20,
   "id": "b733b2b0",
   "metadata": {},
   "outputs": [
    {
     "name": "stdout",
     "output_type": "stream",
     "text": [
      "Prediction Score of the RandomForestRegressiion is 61.24%\n",
      "Prediction Score of the LinearRegression is 58.84%\n",
      "Prediction Score of the DecisionTree is -0.36%\n"
     ]
    }
   ],
   "source": [
    "rfr_score = rfr.score(X_test, y_test)\n",
    "lr_score = lr.score(X_test, y_test)\n",
    "dt_score = dt.score(X_test, y_test)\n",
    "\n",
    "print(f\"Prediction Score of the RandomForestRegressiion is {round(rfr_score * 100, 2)}%\")\n",
    "print(f\"Prediction Score of the LinearRegression is {round(lr_score * 100, 2)}%\")\n",
    "print(f\"Prediction Score of the DecisionTree is {round(dt_score * 100, 2)}%\")\n",
    "\n",
    "# print(rfr_score)"
   ]
  },
  {
   "cell_type": "markdown",
   "id": "222b2c71",
   "metadata": {},
   "source": [
    "## Choose a loss function"
   ]
  },
  {
   "cell_type": "code",
   "execution_count": 21,
   "id": "099ed054",
   "metadata": {},
   "outputs": [
    {
     "name": "stdout",
     "output_type": "stream",
     "text": [
      "RandomForest Root Mean Square Loss : 2245.1560064423643\n",
      "Linear Root Mean Square Loss : 2313.341017200614\n",
      "DecisionTree Root Mean Square Loss : 3612.5465803225293\n"
     ]
    }
   ],
   "source": [
    "rfr_prediction = rfr.predict(X_test)\n",
    "lr_prediction = lr.predict(X_test)\n",
    "dt_prediction = dt.predict(X_test)\n",
    "\n",
    "rfr_rmse = mean_squared_error(y_test, rfr_prediction, squared=False)\n",
    "lr_rmse = mean_squared_error(y_test, lr_prediction, squared=False)\n",
    "dt_rmse = mean_squared_error(y_test, dt_prediction, squared=False)\n",
    "\n",
    "print(f\"RandomForest Root Mean Square Loss : {rfr_rmse}\")\n",
    "print(f\"Linear Root Mean Square Loss : {lr_rmse}\")\n",
    "print(f\"DecisionTree Root Mean Square Loss : {dt_rmse}\")"
   ]
  },
  {
   "cell_type": "markdown",
   "id": "aeb602a8",
   "metadata": {},
   "source": [
    "## Post Prediction analysis"
   ]
  },
  {
   "cell_type": "code",
   "execution_count": 22,
   "id": "bec303d6",
   "metadata": {},
   "outputs": [
    {
     "data": {
      "image/png": "[encoded data removed]",
      "text/plain": [
       "<Figure size 1000x600 with 1 Axes>"
      ]
     },
     "metadata": {},
     "output_type": "display_data"
    }
   ],
   "source": [
    "plt.figure(figsize=(10, 6))\n",
    "important_features = rfr[1].feature_importances_\n",
    "plt.bar(feature_columns, important_features)\n",
    "plt.title('RandomForestRegression Feature Importance')\n",
    "plt.xticks(rotation=70)\n",
    "plt.show()"
   ]
  },
  {
   "cell_type": "code",
   "execution_count": 23,
   "id": "4b9a2130",
   "metadata": {},
   "outputs": [
    {
     "data": {
      "image/png": "[encoded data removed]",
      "text/plain": [
       "<Figure size 1000x600 with 1 Axes>"
      ]
     },
     "metadata": {},
     "output_type": "display_data"
    }
   ],
   "source": [
    "plt.figure(figsize=(10, 6))\n",
    "important_features = lr[1].coef_[0]\n",
    "plt.bar(feature_columns, important_features)\n",
    "plt.title('RandomForestRegression Feature Importance')\n",
    "plt.xticks(rotation=70)\n",
    "plt.show()"
   ]
  },
  {
   "cell_type": "code",
   "execution_count": 24,
   "id": "49c71374",
   "metadata": {},
   "outputs": [
    {
     "data": {
      "image/png": "[encoded data removed]",
      "text/plain": [
       "<Figure size 1000x600 with 1 Axes>"
      ]
     },
     "metadata": {},
     "output_type": "display_data"
    }
   ],
   "source": [
    "plt.figure(figsize=(10, 6))\n",
    "important_features = dt[1].feature_importances_\n",
    "plt.bar(feature_columns, important_features)\n",
    "plt.title('DecisionTree Feature Importance')\n",
    "plt.xticks(rotation=90)\n",
    "plt.show()"
   ]
  },
  {
   "cell_type": "markdown",
   "id": "9df28a95",
   "metadata": {},
   "source": [
    "## Serialize models"
   ]
  },
  {
   "cell_type": "code",
   "execution_count": 25,
   "id": "5d3f606f",
   "metadata": {},
   "outputs": [
    {
     "name": "stdout",
     "output_type": "stream",
     "text": [
      "models/reg-05-01-2024-21-53-25-167.pkl\n"
     ]
    }
   ],
   "source": [
    "from time import gmtime, strftime\n",
    "\n",
    "now = datetime.now()\n",
    "time = now.strftime(\"%d-%m-%Y-%H-%M-%S-%f\")[:-3]  # Remove microseconds\n",
    "models_directory = 'models'\n",
    "reg_model_file_name = f'models/reg-{time}.pkl'\n",
    "lr_model_file_name = f'models/lr-{time}.pkl'\n",
    "dt_model_file_name = f'models/dt-{time}.pkl'\n",
    "\n",
    "files = [reg_model_file_name, lr_model_file_name, dt_model_file_name]\n",
    "models = [rfr, lr, dt]\n",
    "\n",
    "## Create the models directory if it doesn't exist\n",
    "os.makedirs(models_directory, exist_ok=True)\n",
    "\n",
    "print(reg_model_file_name)\n",
    "\n",
    "for i in range(len(files)):\n",
    "    pickle.dump(models[i], open(files[i], 'wb'))"
   ]
  },
  {
   "cell_type": "code",
   "execution_count": null,
   "id": "0f253792",
   "metadata": {},
   "outputs": [],
   "source": [
    "### Add the mlflow here"
   ]
  },
  {
   "cell_type": "code",
   "execution_count": 26,
   "id": "dc9f2899",
   "metadata": {},
   "outputs": [],
   "source": [
    "reg_file = 'models/reg-05-01-2024-21-53-25-167.pkl'\n",
    "lr_file = 'models/lr-05-01-2024-21-53-25-167.pkl'\n",
    "dt_file = 'models/dt-05-01-2024-21-47-38-226.pkl'\n",
    "\n",
    "reg_model = pickle.load(open(reg_file, 'rb'))\n",
    "lr_model = pickle.load(open(lr_file, 'rb'))\n",
    "dt_model = pickle.load(open(dt_file, 'rb'))"
   ]
  },
  {
   "cell_type": "code",
   "execution_count": 27,
   "id": "43c0a51b",
   "metadata": {},
   "outputs": [
    {
     "data": {
      "text/plain": [
       "0.2647397933197241"
      ]
     },
     "execution_count": 27,
     "metadata": {},
     "output_type": "execute_result"
    }
   ],
   "source": [
    "dt_score = dt_model.score(X_test, y_test)\n",
    "dt_score"
   ]
  },
  {
   "cell_type": "code",
   "execution_count": 28,
   "id": "2518dc22",
   "metadata": {},
   "outputs": [
    {
     "data": {
      "text/plain": [
       "0.5884483325533649"
      ]
     },
     "execution_count": 28,
     "metadata": {},
     "output_type": "execute_result"
    }
   ],
   "source": [
    "lr_score = lr_model.score(X_test, y_test)\n",
    "lr_score"
   ]
  },
  {
   "cell_type": "code",
   "execution_count": 29,
   "id": "946b5d39",
   "metadata": {},
   "outputs": [
    {
     "data": {
      "text/plain": [
       "0.6123515101386496"
      ]
     },
     "execution_count": 29,
     "metadata": {},
     "output_type": "execute_result"
    }
   ],
   "source": [
    "rfr_score = reg_model.score(X_test, y_test)\n",
    "rfr_score"
   ]
  },
  {
   "cell_type": "code",
   "execution_count": null,
   "id": "bef0f525-5fe9-4343-a49b-dc208e8ab18c",
   "metadata": {},
   "outputs": [],
   "source": []
  }
 ],
 "metadata": {
  "kernelspec": {
   "display_name": "Python 3 (ipykernel)",
   "language": "python",
   "name": "python3"
  },
  "language_info": {
   "codemirror_mode": {
    "name": "ipython",
    "version": 3
   },
   "file_extension": ".py",
   "mimetype": "text/x-python",
   "name": "python",
   "nbconvert_exporter": "python",
   "pygments_lexer": "ipython3",
   "version": "3.11.5"
  }
 },
 "nbformat": 4,
 "nbformat_minor": 5
}
